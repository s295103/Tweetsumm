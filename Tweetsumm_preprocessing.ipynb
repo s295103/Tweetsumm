{
  "nbformat": 4,
  "nbformat_minor": 0,
  "metadata": {
    "colab": {
      "provenance": [],
      "gpuType": "T4",
      "toc_visible": true,
      "authorship_tag": "ABX9TyPjy/PCk3yUconMfM7NkXKC",
      "include_colab_link": true
    },
    "kernelspec": {
      "name": "python3",
      "display_name": "Python 3"
    },
    "language_info": {
      "name": "python"
    },
    "accelerator": "GPU"
  },
  "cells": [
    {
      "cell_type": "markdown",
      "metadata": {
        "id": "view-in-github",
        "colab_type": "text"
      },
      "source": [
        "<a href=\"https://colab.research.google.com/github/s295103/Tweetsumm/blob/main/Tweetsumm_preprocessing.ipynb\" target=\"_parent\"><img src=\"https://colab.research.google.com/assets/colab-badge.svg\" alt=\"Open In Colab\"/></a>"
      ]
    },
    {
      "cell_type": "markdown",
      "source": [
        "#Import Tweetsumm and COMET repositories"
      ],
      "metadata": {
        "id": "r99snyY7rVtS"
      }
    },
    {
      "cell_type": "code",
      "execution_count": null,
      "metadata": {
        "id": "7NB49E2EfT4Q"
      },
      "outputs": [],
      "source": [
        "import os"
      ]
    },
    {
      "cell_type": "code",
      "source": [
        "if os.path.isdir(\"./Tweetsumm\"):\n",
        "  !rm -r Tweetsumm\n",
        "!git clone https://github.com/s295103/Tweetsumm.git"
      ],
      "metadata": {
        "id": "GhuE_ExSOIqC"
      },
      "execution_count": null,
      "outputs": []
    },
    {
      "cell_type": "code",
      "source": [
        "if os.path.isdir(\"./XSummarization\"):\n",
        "  !rm -r XSummarization\n",
        "!git clone https://github.com/s295103/XSummarization.git"
      ],
      "metadata": {
        "id": "yi0VtMF6OITW"
      },
      "execution_count": null,
      "outputs": []
    },
    {
      "cell_type": "markdown",
      "source": [
        "#Download Tweetsumm TWCS file"
      ],
      "metadata": {
        "id": "_Xv_v_XQriW4"
      }
    },
    {
      "cell_type": "code",
      "source": [
        "!pip install kaggle\n",
        "!mkdir ~/.kaggle\n",
        "!cp Tweetsumm/kaggle.json ~/.kaggle/\n",
        "!chmod 600 ~/.kaggle/kaggle.json\n",
        "!kaggle datasets download thoughtvector/customer-support-on-twitter\n",
        "!unzip customer-support-on-twitter.zip -d Tweetsumm/data\n"
      ],
      "metadata": {
        "id": "9eyX4zHlgTr7"
      },
      "execution_count": null,
      "outputs": []
    },
    {
      "cell_type": "markdown",
      "source": [
        "#Install COMET requirements"
      ],
      "metadata": {
        "id": "6F7L3DXEl82r"
      }
    },
    {
      "cell_type": "code",
      "source": [
        "!bash XSummarization/Comet/download_model.sh\n",
        "!pip install -U sentence-transformers\n",
        "\n",
        "import torch\n",
        "if torch.cuda.is_available():\n",
        "  device = \"cuda\"\n",
        "  !pip install -r XSummarization/Comet/requirement-gpu.txt\n",
        "else:\n",
        "  device = \"cpu\"\n",
        "  !pip install -r XSummarization/Comet/requirement-cpu.txt\n"
      ],
      "metadata": {
        "id": "gLQQRYL_9vh0"
      },
      "execution_count": null,
      "outputs": []
    },
    {
      "cell_type": "markdown",
      "source": [
        "#Define preprocessing function"
      ],
      "metadata": {
        "id": "R84_9qkrrw4J"
      }
    },
    {
      "cell_type": "code",
      "source": [
        "from Tweetsumm.tweet_sum_processor import TweetSumProcessor\n",
        "from XSummarization.Comet.comet import Comet, generate_commonsense\n",
        "from google.colab import files\n",
        "import json\n",
        "import warnings\n",
        "from tqdm.notebook import tqdm\n",
        "\n",
        "def sick_preprocessing(twcs_file, input_data, output_data, commonsense_dialog, commonsense_summ=None):\n",
        "  warnings.filterwarnings('ignore')\n",
        "  processor = TweetSumProcessor(twcs_file)\n",
        "  comet = Comet(\"./comet-atomic_2020_BART\")\n",
        "  comet.model.zero_grad()\n",
        "\n",
        "  with open(input_data, \"r\") as f:\n",
        "    dialog_with_summaries = processor.get_dialog_with_summaries(f.readlines())\n",
        "\n",
        "  with open(output_data, \"w\") as f:\n",
        "    print(\"Refactoring dialogue data...\")\n",
        "    dialog_json = [d.get_json() for d in dialog_with_summaries]\n",
        "    f.writelines(\"\\n\".join(dialog_json))\n",
        "\n",
        "  with open(commonsense_dialog, \"w\") as f:\n",
        "    print(\"Generating commonsense data for dialogues...\")\n",
        "    for d in tqdm(dialog_with_summaries):\n",
        "      dialog = d.get_dialog()\n",
        "      turns = [str(t) for t in dialog.get_turns()]\n",
        "      commonsense = [generate_commonsense(comet, t) for t in turns]\n",
        "      line = {\n",
        "          \"dialog_id\": dialog.get_dialog_id(),\n",
        "          \"commonsense\":commonsense\n",
        "        }\n",
        "      f.write(json.dumps(line))\n",
        "\n",
        "  if commonsense_summ:\n",
        "    with open(commonsense_summ, \"w\") as f:\n",
        "      print(\"Generating commonsense data for summaries...\")\n",
        "      for d in tqdm(dialog_with_summaries):\n",
        "        dialog = d.get_dialog()\n",
        "        summaries = [str(s) for s in d.get_abstractive_summaries()]\n",
        "        commonsense = [generate_commonsense(comet, s) for s in summaries]\n",
        "        line = {\n",
        "           \"dialog_id\": dialog.get_dialog_id(),\n",
        "           \"commonsense\":commonsense\n",
        "         }\n",
        "        f.write(json.dumps(line))\n"
      ],
      "metadata": {
        "id": "0V9RigQSfukF"
      },
      "execution_count": null,
      "outputs": []
    },
    {
      "cell_type": "markdown",
      "source": [
        "#Apply preprocessing to the data"
      ],
      "metadata": {
        "id": "KF3dPv8Wr2ll"
      }
    },
    {
      "cell_type": "code",
      "source": [
        "if not os.path.isdir(\"/content/clean_data\"):\n",
        "  !mkdir clean_data\n",
        "if not os.path.isdir(\"/content/COMET_data\"):\n",
        "  !mkdir COMET_data\n",
        "  !mkdir COMET_data/tweetsumm\n",
        "  !mkdir COMET_data/tweetsumm/dialogue\n",
        "  !mkdir COMET_data/tweetsumm/summary\n",
        "\n",
        "TWCS_FILE_PATH = \"/content/Tweetsumm/data/twcs/twcs.csv\"\n",
        "TRAIN_FILE_PATH = \"/content/Tweetsumm/tweet_sum_data_files/final_train_tweetsum.jsonl\"\n",
        "VALID_FILE_PATH = \"/content/Tweetsumm/tweet_sum_data_files/final_valid_tweetsum.jsonl\"\n",
        "TEST_FILE_PATH = \"/content/Tweetsumm/tweet_sum_data_files/final_test_tweetsum.jsonl\"\n",
        "\n",
        "CLEAN_TRAIN_FILE_PATH = \"/content/clean_data/tweetsumm_train.json\"\n",
        "CLEAN_VALID_FILE_PATH = \"/content/clean_data/tweetsumm_validation.json\"\n",
        "CLEAN_TEST_FILE_PATH = \"/content/clean_data/tweetsumm_test.json\"\n",
        "\n",
        "COMET_DIALOGUE_TRAIN_FILE_PATH = \"/content/COMET_data/tweetsumm/dialogue/comet_train.json\"\n",
        "COMET_DIALOGUE_VALID_FILE_PATH = \"/content/COMET_data/tweetsumm/dialogue/comet_validation.json\"\n",
        "COMET_DIALOGUE_TEST_FILE_PATH = \"/content/COMET_data/tweetsumm/dialogue/comet_test.json\"\n",
        "COMET_SUMMARY_TRAIN_FILE_PATH = \"/content/COMET_data/tweetsumm/summary/comet_train.json\"\n",
        "\n",
        "print(\"Processing training data\")\n",
        "sick_preprocessing(TWCS_FILE_PATH, TRAIN_FILE_PATH, CLEAN_TRAIN_FILE_PATH, COMET_DIALOGUE_TRAIN_FILE_PATH, COMET_SUMMARY_TRAIN_FILE_PATH)\n",
        "\n",
        "print(\"Processing validation data\")\n",
        "sick_preprocessing(TWCS_FILE_PATH, VALID_FILE_PATH, CLEAN_VALID_FILE_PATH, COMET_DIALOGUE_VALID_FILE_PATH)\n",
        "\n",
        "print(\"Processing test data\")\n",
        "sick_preprocessing(TWCS_FILE_PATH, TEST_FILE_PATH, CLEAN_TEST_FILE_PATH, COMET_DIALOGUE_TEST_FILE_PATH)\n"
      ],
      "metadata": {
        "id": "OCXkSeUBCs83"
      },
      "execution_count": null,
      "outputs": []
    },
    {
      "cell_type": "markdown",
      "source": [
        "#Download data"
      ],
      "metadata": {
        "id": "VFcEhCsDr5ux"
      }
    },
    {
      "cell_type": "code",
      "source": [
        "!zip -r tweetsumm_clean.zip clean_data\n",
        "files.download(\"tweetsumm_clean.zip\")\n",
        "!zip -r tweetsumm_comet.zip COMET_data\n",
        "files.download(\"tweetsumm_comet.zip\")"
      ],
      "metadata": {
        "id": "xwV2brhcOgF3"
      },
      "execution_count": null,
      "outputs": []
    }
  ]
}